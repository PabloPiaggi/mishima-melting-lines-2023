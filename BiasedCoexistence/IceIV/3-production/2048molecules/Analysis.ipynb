{
 "cells": [
  {
   "cell_type": "markdown",
   "metadata": {},
   "source": [
    "# Biased coexistence simulations for ice IV\n",
    "### 2056 molecules"
   ]
  },
  {
   "cell_type": "code",
   "execution_count": 1,
   "metadata": {},
   "outputs": [],
   "source": [
    "import numpy as np\n",
    "import matplotlib.pyplot as plt\n",
    "import glob\n",
    "from scipy.optimize import curve_fit\n",
    "import os.path\n",
    "from matplotlib.patches import Ellipse"
   ]
  },
  {
   "cell_type": "code",
   "execution_count": 2,
   "metadata": {},
   "outputs": [],
   "source": [
    "font = {'family' : 'serif',\n",
    "        'serif'   : 'palatino',\n",
    "        #'sans-serif'    : 'Computer Modern Sans serif',\n",
    "        'style'   : 'normal',\n",
    "        'variant'   : 'normal',\n",
    "        'stretch'   : 'normal',\n",
    "        'weight'   : 'normal',\n",
    "        'size'   : 20}\n",
    "plt.rc('font', **font)\n",
    "#plt.rc('text', usetex=False)\n",
    "plt.rcParams['figure.figsize'] = (15, 10)\n",
    "\n",
    "colors = plt.rcParams['axes.prop_cycle'].by_key()['color']"
   ]
  },
  {
   "cell_type": "code",
   "execution_count": 17,
   "metadata": {},
   "outputs": [
    {
     "data": {
      "image/png": "[encoded data removed]",
      "text/plain": [
       "<Figure size 504x36 with 5 Axes>"
      ]
     },
     "metadata": {
      "needs_background": "light"
     },
     "output_type": "display_data"
    }
   ],
   "source": [
    "font = {'family' : 'serif',\n",
    "        'serif'   : 'palatino',\n",
    "        #'sans-serif'    : 'Computer Modern Sans serif',\n",
    "        'style'   : 'normal',\n",
    "        'variant'   : 'normal',\n",
    "        'stretch'   : 'normal',\n",
    "        'weight'   : 'normal',\n",
    "        'size'   : 9}\n",
    "plt.rc('font', **font)\n",
    "plt.rc('text', usetex=True)\n",
    "plt.rcParams['figure.figsize'] = (7, 0.5)\n",
    "\n",
    "pressures=np.array([2500])\n",
    "temps=np.array([260,265,270,275,280])\n",
    "press=pressures[0]\n",
    "\n",
    "fig, axs = plt.subplots(1,temps.shape[0],sharex=True,sharey=True)\n",
    "\n",
    "counter2=0\n",
    "for temp in temps:\n",
    "    file='IceIV-' + str(temp) + \".0-\" + str(press) + '.0/COLVAR.0'\n",
    "    axs[counter2].set_ylim([1028,1156])\n",
    "    axs[counter2].set_xlim([0,10])\n",
    "    axs[counter2].set_yticks([1028,1126])\n",
    "    axs[counter2].tick_params(axis='y', which='major', labelsize=7)\n",
    "    if(os.path.exists(file)):\n",
    "        data = np.genfromtxt(file)\n",
    "        axs[counter2].plot(data[:,0]/1000,data[:,1],color=colors[counter2],linewidth=0.5)\n",
    "    counter2 += 1\n",
    "    #axs[0].text(5,1170,str(pressures[0]/10000)+ ' GPa',va='center',ha='center')\n",
    "\n",
    "for i in range(temps.shape[0]):\n",
    "    axs[i].text(5,1170,str(temps[i])+ ' K',va='center',ha='center',color=colors[i])\n",
    "\n",
    "#axs[int(temps.shape[0]/2)].xaxis.set_label_coords(-0.075, -1.6)\n",
    "axs[2].set_xlabel(\"Time (ns)\") #,labelpad=5)\n",
    "\n",
    "#axs[temps.shape[0]-1,int(pressures.shape[0]/2)].xaxis.set_label_coords(-0.075, -1.6)\n",
    "\n",
    "axs[0].set_ylabel(\"\\# of ice IV-like \\n molecules\")\n",
    "\n",
    "#plt.tight_layout()\n",
    "plt.savefig(\"1-traj-IV-large.pdf\",bbox_inches='tight')  # publication quality\n",
    "\n",
    "plt.show()"
   ]
  },
  {
   "cell_type": "code",
   "execution_count": 28,
   "metadata": {},
   "outputs": [
    {
     "name": "stderr",
     "output_type": "stream",
     "text": [
      "<ipython-input-28-fa7b9e7386aa>:40: RuntimeWarning: divide by zero encountered in log\n",
      "  fes = -np.log(histo)\n",
      "<ipython-input-28-fa7b9e7386aa>:46: RuntimeWarning: invalid value encountered in true_divide\n",
      "  feserr = err/histo\n",
      "<ipython-input-28-fa7b9e7386aa>:40: RuntimeWarning: divide by zero encountered in log\n",
      "  fes = -np.log(histo)\n",
      "<ipython-input-28-fa7b9e7386aa>:46: RuntimeWarning: invalid value encountered in true_divide\n",
      "  feserr = err/histo\n"
     ]
    },
    {
     "data": {
      "image/png": "[encoded data removed]",
      "text/plain": [
       "<Figure size 252x36 with 1 Axes>"
      ]
     },
     "metadata": {
      "needs_background": "light"
     },
     "output_type": "display_data"
    }
   ],
   "source": [
    "font = {'family' : 'serif',\n",
    "        'serif'   : 'palatino',\n",
    "        #'sans-serif'    : 'Computer Modern Sans serif',\n",
    "        'style'   : 'normal',\n",
    "        'variant'   : 'normal',\n",
    "        'stretch'   : 'normal',\n",
    "        'weight'   : 'normal',\n",
    "        'size'   : 9}\n",
    "plt.rc('font', **font)\n",
    "plt.rc('text', usetex=True)\n",
    "plt.rcParams['figure.figsize'] = (3.5, 0.5)\n",
    "\n",
    "pressures=np.array([2500])\n",
    "temps=np.array([260,265,270,275,280])\n",
    "press=pressures[0]\n",
    "\n",
    "def func(x,a,b):\n",
    "    return a*x+b\n",
    "\n",
    "fig, axs = plt.subplots(1,1,sharex=True,sharey=True)\n",
    "\n",
    "counter2=0\n",
    "for temp in temps:\n",
    "    file='IceIV-' + str(temp) + \".0-\" + str(press) + '.0/COLVAR.0'\n",
    "    if(os.path.exists(file)):\n",
    "        data = np.genfromtxt(file)\n",
    "        ignore=int(data.shape[0]/4)\n",
    "        bias= data[ignore:,3]\n",
    "        cv=data[ignore:,1]\n",
    "        if (cv.shape[0]>0):\n",
    "            beta=1./(0.00831441001626*temp)\n",
    "            logweights=beta*bias\n",
    "            logweights -= np.amax(logweights)\n",
    "            nbins=20\n",
    "            histmin=1028\n",
    "            histmax=1156\n",
    "            histo, bin_edges = np.histogram(cv,weights=np.exp(logweights),bins=nbins,range=(histmin,histmax))\n",
    "            err = np.sqrt(np.histogram(cv,weights=np.power(np.exp(logweights),2),bins=nbins,range=(histmin,histmax))[0])\n",
    "            bin_centers = (bin_edges[1:]+bin_edges[:-1])/2\n",
    "            fes = -np.log(histo)\n",
    "            offset = np.mean(np.ma.masked_invalid(fes))\n",
    "            fes -= offset\n",
    "            axs.set_xlim([histmin,histmax])\n",
    "            axs.set_xticks([1028,1092,1156])\n",
    "            axs.set_ylim([-5,5])\n",
    "            feserr = err/histo\n",
    "            axs.fill_between(bin_centers,fes-10*feserr,fes+10*feserr,color=colors[counter2],linewidth=0,alpha=0.5)\n",
    "        if (fes[np.isfinite(fes)].shape[0]>0):\n",
    "            popt, pcov = curve_fit(func, bin_centers[np.isfinite(fes)], fes[np.isfinite(fes)], sigma=2*feserr[np.isfinite(fes)])\n",
    "            x=np.linspace(histmin,histmax,10)\n",
    "            axs.plot(x,func(x,*popt),'--',alpha=0.5,color=colors[counter2],linewidth=0.5)\n",
    "    counter2 += 1\n",
    "axs.plot([histmin,histmax],[0,0],':',alpha=0.5,color='black',zorder=0,linewidth=0.5)\n",
    "    \n",
    "axs.text(1092,6.6,str(press/10000)+ ' GPa',va='center',ha='center')\n",
    "    \n",
    "#axs[int(pressures.shape[0]/2)].xaxis.set_label_coords(-0.075, -0.6)\n",
    "axs.set_xlabel(r\"\\# of ice IV-like molecules\")\n",
    "axs.set_ylabel(\"F (k$_B$T)\")\n",
    "\n",
    "plt.savefig(\"2-fes-IV-large.pdf\",bbox_inches='tight')  # publication quality\n",
    "\n",
    "plt.show()"
   ]
  },
  {
   "cell_type": "code",
   "execution_count": 27,
   "metadata": {},
   "outputs": [
    {
     "name": "stderr",
     "output_type": "stream",
     "text": [
      "<ipython-input-27-fd9562cc5aee>:48: RuntimeWarning: divide by zero encountered in log\n",
      "  fes = -np.log(histo)\n",
      "<ipython-input-27-fd9562cc5aee>:51: RuntimeWarning: invalid value encountered in true_divide\n",
      "  feserr = err/histo\n"
     ]
    },
    {
     "name": "stdout",
     "output_type": "stream",
     "text": [
      "[262.71769062] [2500.] [3.64012104]\n"
     ]
    },
    {
     "data": {
      "image/png": "[encoded data removed]",
      "text/plain": [
       "<Figure size 252x36 with 1 Axes>"
      ]
     },
     "metadata": {
      "needs_background": "light"
     },
     "output_type": "display_data"
    }
   ],
   "source": [
    "font = {'family' : 'serif',\n",
    "        'serif'   : 'palatino',\n",
    "        #'sans-serif'    : 'Computer Modern Sans serif',\n",
    "        'style'   : 'normal',\n",
    "        'variant'   : 'normal',\n",
    "        'stretch'   : 'normal',\n",
    "        'weight'   : 'normal',\n",
    "        'size'   : 9}\n",
    "plt.rc('font', **font)\n",
    "plt.rc('text', usetex=True)\n",
    "plt.rcParams['figure.figsize'] = (3.5, 0.5)\n",
    "\n",
    "pressures=np.array([2500])\n",
    "temps=np.array([260,265,270,275,280])\n",
    "press=pressures[0]\n",
    "\n",
    "def func(x,a,b):\n",
    "    return a*x+b\n",
    "\n",
    "def func2(x,a,x0):\n",
    "    return a*(x-x0)\n",
    "\n",
    "fig, axs = plt.subplots(1,1,sharex=True,sharey=True)\n",
    "\n",
    "counter2=0\n",
    "melt_temp=np.zeros(0)\n",
    "melt_temp_errors=np.zeros(0)\n",
    "melt_temp_pressures=np.zeros(0)\n",
    "chem_pot=np.zeros(0)\n",
    "chem_pot_temps=np.zeros(0)\n",
    "for temp in temps:\n",
    "    file='IceIV-' + str(temp) + \".0-\" + str(press) + '.0/COLVAR.0'\n",
    "    if(os.path.exists(file)):\n",
    "        data = np.genfromtxt(file)\n",
    "        ignore=int(data.shape[0]/4)\n",
    "        bias= data[ignore:,3]\n",
    "        cv=data[ignore:,1]\n",
    "        if (cv.shape[0]>0):\n",
    "            beta=1./(0.00831441001626*temp)\n",
    "            logweights=beta*bias\n",
    "            logweights -= np.amax(logweights)\n",
    "            nbins=20\n",
    "            histmin=1028\n",
    "            histmax=1156\n",
    "            histo, bin_edges = np.histogram(cv,weights=np.exp(logweights),bins=nbins,range=(histmin,histmax))\n",
    "            err = np.sqrt(np.histogram(cv,weights=np.power(np.exp(logweights),2),bins=nbins,range=(histmin,histmax))[0])\n",
    "            bin_centers = (bin_edges[1:]+bin_edges[:-1])/2\n",
    "            fes = -np.log(histo)\n",
    "            offset = np.mean(np.ma.masked_invalid(fes))\n",
    "            fes -= offset\n",
    "            feserr = err/histo\n",
    "            popt, pcov = curve_fit(func, bin_centers[np.isfinite(fes)], fes[np.isfinite(fes)], sigma=2*feserr[np.isfinite(fes)])\n",
    "            chem_pot=np.insert(chem_pot,0,popt[0])\n",
    "            chem_pot_temps=np.insert(chem_pot_temps,0,temp)\n",
    "            axs.scatter(temp,popt[0],s=10,color=colors[0])\n",
    "    counter2 += 1\n",
    "    axs.plot([255,285],[0,0],':',color='black',alpha=0.25,zorder=0,linewidth=0.5)\n",
    "    axs.set_xlim([255,285])\n",
    "    axs.set_xticks([260,270,280])\n",
    "    axs.set_ylim([-0.25,0.25])\n",
    "if (chem_pot_temps.shape[0]>0):\n",
    "    popt, pcov = curve_fit(func2, chem_pot_temps, chem_pot, sigma=np.ones(chem_pot.shape[0])*0.05, absolute_sigma=True)\n",
    "    perr = np.sqrt(np.diag(pcov))\n",
    "    x=np.linspace(temps[0]-10,temps[-1]+10,10)\n",
    "    axs.plot(x,func2(x,*popt),'--',color='black',alpha=0.5,linewidth=0.75)\n",
    "    melt_temp=np.insert(melt_temp,0,popt[1])\n",
    "    melt_temp_pressures=np.insert(melt_temp_pressures,0,press)\n",
    "    melt_temp_errors=np.insert(melt_temp_errors,0,perr[1])\n",
    "    axs.fill_between(x,func2(x,popt[0],popt[1]-perr[1]),func2(x,popt[0],popt[1]+perr[1]),linewidth=0.,color='black',alpha=0.2,zorder=0)\n",
    "    \n",
    "print(melt_temp,melt_temp_pressures,melt_temp_errors)\n",
    "\n",
    "axs.text(270,0.35,str(press/10000)+ ' GPa',va='center',ha='center')\n",
    "    \n",
    "\n",
    "axs.set_xlabel(\"Temperature (K)\")\n",
    "axs.set_ylabel(\"$\\Delta\\mu$ (k$_B$T)\")\n",
    "\n",
    "plt.savefig(\"3-deltamu-IV-large.pdf\",bbox_inches='tight')  # publication quality\n",
    "\n",
    "plt.show()"
   ]
  },
  {
   "cell_type": "code",
   "execution_count": 30,
   "metadata": {},
   "outputs": [
    {
     "data": {
      "image/png": "[encoded data removed]",
      "text/plain": [
       "<Figure size 216x36 with 1 Axes>"
      ]
     },
     "metadata": {
      "needs_background": "light"
     },
     "output_type": "display_data"
    }
   ],
   "source": [
    "from scipy.interpolate import interp1d, UnivariateSpline\n",
    "\n",
    "font = {'family' : 'serif',\n",
    "        'serif'   : 'palatino',\n",
    "        #'sans-serif'    : 'Computer Modern Sans serif',\n",
    "        'style'   : 'normal',\n",
    "        'variant'   : 'normal',\n",
    "        'stretch'   : 'normal',\n",
    "        'weight'   : 'normal',\n",
    "        'size'   : 9}\n",
    "plt.rc('font', **font)\n",
    "plt.rc('text', usetex=True)\n",
    "plt.rcParams['figure.figsize'] = (3., 0.5)\n",
    "\n",
    "plt.errorbar(melt_temp_pressures/10000,melt_temp,melt_temp_errors, ls='none',capsize=2)\n",
    "plt.scatter(melt_temp_pressures/10000,melt_temp,s=10)\n",
    "\n",
    "thermo = np.genfromtxt(\"../../../../../ClausiusClapyeron/Results/thermo_condition_iceIV.txt\")\n",
    "f_spline = interp1d(thermo[:,0]/10000,thermo[:,1], kind='cubic',bounds_error=False,fill_value='extrapolate')\n",
    "x=np.linspace(0.2,0.3,1000)\n",
    "plt.plot(x,f_spline(x),'--',color=colors[0],linewidth=1)\n",
    "\n",
    "    \n",
    "plt.xlabel(\"P (GPa)\")\n",
    "plt.ylabel(\"$T_m$ (K)\")\n",
    "plt.xticks([0.2,0.25,0.3])\n",
    "plt.xlim([0.2,0.3])\n",
    "\n",
    "plt.savefig(\"4-meltingcurve-IV-large.pdf\",bbox_inches='tight')  # publication quality\n",
    "\n",
    "plt.show()"
   ]
  },
  {
   "cell_type": "code",
   "execution_count": 49,
   "metadata": {},
   "outputs": [
    {
     "data": {
      "image/png": "[encoded data removed]",
      "text/plain": [
       "<Figure size 252x144 with 1 Axes>"
      ]
     },
     "metadata": {
      "needs_background": "light"
     },
     "output_type": "display_data"
    }
   ],
   "source": [
    "font = {'family' : 'serif',\n",
    "        'serif'   : 'palatino',\n",
    "        #'sans-serif'    : 'Computer Modern Sans serif',\n",
    "        'style'   : 'normal',\n",
    "        'variant'   : 'normal',\n",
    "        'stretch'   : 'normal',\n",
    "        'weight'   : 'normal',\n",
    "        'size'   : 9}\n",
    "plt.rc('font', **font)\n",
    "plt.rc('text', usetex=True)\n",
    "plt.rcParams['figure.figsize'] = (3.5, 2.)\n",
    "\n",
    "colors = plt.rcParams['axes.prop_cycle'].by_key()['color']\n",
    "\n",
    "Tgrow = np.array([250,250,250,260,260,260,260,270,270])\n",
    "Pgrow = np.array([2500,3000,3500,2500,3000,3500,4000,3500,4000])\n",
    "Tmelt = np.array([270,270,280,280,280])\n",
    "Pmelt = np.array([2000,2500,2500,3000,3500])\n",
    "Tcoexist=np.array([265,270,275])\n",
    "Pcoexist=np.array([2500,3000,3500])\n",
    "\n",
    "plt.scatter(Pgrow/10000,Tgrow,marker='^',color=colors[1],label=\"Coex. - ice IV grows\",s=10)\n",
    "plt.scatter(Pmelt/10000,Tmelt,marker='v',color=colors[1],label=\"Coex. - Ice IV melts\",s=10)\n",
    "\n",
    "plt.errorbar(melt_temp_pressures/10000,melt_temp,melt_temp_errors, ls='none',capsize=2,label=\"Biased coexistence\")\n",
    "plt.scatter(melt_temp_pressures/10000,melt_temp,s=10)\n",
    "\n",
    "thermo = np.genfromtxt(\"../../../../../ClausiusClapyeron/Results/thermo_condition_iceIV.txt\")\n",
    "f_spline = interp1d(thermo[:,0]/10000,thermo[:,1], kind='cubic',bounds_error=False,fill_value='extrapolate')\n",
    "x=np.linspace(0.19,0.41,1000)\n",
    "plt.plot(x,f_spline(x),'--',color=colors[0],linewidth=1,label=\"Clausius-Clapeyron Eq.\")\n",
    "\n",
    "plt.xlabel(\"Pressure (bar)\")\n",
    "plt.ylabel(\"Temperature (K)\")\n",
    "plt.xlim([0.19,0.41])\n",
    "plt.ylim([235,285])\n",
    "plt.legend(fontsize=7)\n",
    "\n",
    "plt.savefig(\"std-coexistence-IV-large.pdf\",bbox_inches='tight')  # publication quality\n",
    "\n",
    "plt.show()"
   ]
  },
  {
   "cell_type": "code",
   "execution_count": null,
   "metadata": {},
   "outputs": [],
   "source": []
  }
 ],
 "metadata": {
  "kernelspec": {
   "display_name": "Python 3 (ipykernel)",
   "language": "python",
   "name": "python3"
  },
  "language_info": {
   "codemirror_mode": {
    "name": "ipython",
    "version": 3
   },
   "file_extension": ".py",
   "mimetype": "text/x-python",
   "name": "python",
   "nbconvert_exporter": "python",
   "pygments_lexer": "ipython3",
   "version": "3.10.4"
  }
 },
 "nbformat": 4,
 "nbformat_minor": 2
}

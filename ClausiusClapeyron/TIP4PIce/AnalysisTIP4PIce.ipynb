{
 "cells": [
  {
   "cell_type": "markdown",
   "metadata": {},
   "source": [
    "# Melting curve of ice V with the TIP4P/Ice model"
   ]
  },
  {
   "cell_type": "code",
   "execution_count": 1,
   "metadata": {},
   "outputs": [],
   "source": [
    "import numpy as np\n",
    "import matplotlib.pyplot as plt\n",
    "import glob\n",
    "from scipy.optimize import curve_fit\n",
    "import os.path\n",
    "from matplotlib.patches import Ellipse\n",
    "from scipy.interpolate import interp1d, UnivariateSpline"
   ]
  },
  {
   "cell_type": "code",
   "execution_count": 40,
   "metadata": {},
   "outputs": [],
   "source": [
    "font = {'family' : 'serif',\n",
    "        'serif'   : 'palatino',\n",
    "        #'sans-serif'    : 'Computer Modern Sans serif',\n",
    "        'style'   : 'normal',\n",
    "        'variant'   : 'normal',\n",
    "        'stretch'   : 'normal',\n",
    "        'weight'   : 'normal',\n",
    "        'size'   : 9}\n",
    "plt.rc('font', **font)\n",
    "plt.rc('text', usetex=True)\n",
    "plt.rcParams['figure.figsize'] = (3.5,2.5)\n",
    "\n",
    "colors = plt.rcParams['axes.prop_cycle'].by_key()['color']"
   ]
  },
  {
   "cell_type": "code",
   "execution_count": 47,
   "metadata": {},
   "outputs": [
    {
     "data": {
      "image/png": "[encoded data removed]",
      "text/plain": [
       "<Figure size 252x180 with 1 Axes>"
      ]
     },
     "metadata": {
      "needs_background": "light"
     },
     "output_type": "display_data"
    }
   ],
   "source": [
    "data=np.genfromtxt(\"LLT-data/max_Kt.json\")\n",
    "plt.plot(data[1,:]/1000,data[0,:],'--',color='gray',linewidth=2,label=\"Widom line\")\n",
    "data=np.genfromtxt(\"LLT-data/coexistence_up.csv\")\n",
    "plt.plot(data[1,:]/1000,data[0,:],color='gray',linewidth=2,label=\"Binodal\")\n",
    "\n",
    "thermo = np.genfromtxt(\"../Results/thermo_condition_iceV_TIP4PIce.txt\")\n",
    "plt.scatter(thermo[:,0]/10000,thermo[:,1],marker='x',color=colors[0])\n",
    "f_spline = UnivariateSpline(thermo[:,0]/10000,thermo[:,1],s=0.1)\n",
    "x=np.linspace(0.05,0.7,1000)\n",
    "plt.plot(x,f_spline(x),color=colors[0],linewidth=2)\n",
    "\n",
    "ellipse=Ellipse((0.1739,188),0.01,3,alpha=0.8,color='gray')\n",
    "ax = plt.gca()\n",
    "ax.add_patch(ellipse)\n",
    "\n",
    "plt.text(0.16,215,\"V\",color=colors[0],va='center',ha='center')\n",
    "\n",
    "plt.xlim([0.0,0.26])\n",
    "plt.ylim([170,250])\n",
    "\n",
    "plt.xlabel(\"Pressure (GPa)\")\n",
    "plt.ylabel(\"Temperature (K)\")\n",
    "\n",
    "plt.text(0.15,184,\"L-L \\n critical point\",color='gray',va='center',ha='center',fontsize=8)\n",
    "plt.text(0.21,182,\"L-L \\n coexistence\",color='gray',va='center',ha='center',rotation=-48,fontsize=8)\n",
    "plt.text(0.075,234,\"Widom line\",color='gray',va='center',ha='center',rotation=-40,fontsize=8)\n",
    "plt.text(0.22,245,\"TIP4P/Ice\",color='black',va='center',ha='center',fontsize=9)\n",
    "\n",
    "plt.savefig(\"melting-iceV-tip4pice.pdf\",bbox_inches='tight')  # publication quality\n",
    "\n",
    "plt.show()"
   ]
  },
  {
   "cell_type": "code",
   "execution_count": null,
   "metadata": {},
   "outputs": [],
   "source": []
  }
 ],
 "metadata": {
  "kernelspec": {
   "display_name": "Python 3 (ipykernel)",
   "language": "python",
   "name": "python3"
  },
  "language_info": {
   "codemirror_mode": {
    "name": "ipython",
    "version": 3
   },
   "file_extension": ".py",
   "mimetype": "text/x-python",
   "name": "python",
   "nbconvert_exporter": "python",
   "pygments_lexer": "ipython3",
   "version": "3.10.4"
  }
 },
 "nbformat": 4,
 "nbformat_minor": 4
}
